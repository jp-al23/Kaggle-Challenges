{
 "cells": [
  {
   "cell_type": "code",
   "execution_count": 13,
   "id": "6bdcad9d-ae60-49c9-ac09-3660139e3c51",
   "metadata": {},
   "outputs": [],
   "source": [
    "import pandas as pd\n",
    "import numpy as np\n",
    "import matplotlib.pyplot as plt\n",
    "import seaborn as sns\n",
    "\n",
    "from sklearn.model_selection import train_test_split, GridSearchCV, RandomizedSearchCV, KFold\n",
    "\n",
    "from sklearn.ensemble import RandomForestClassifier\n",
    "from sklearn.naive_bayes import GaussianNB\n",
    "from sklearn.neighbors import KNeighborsClassifier\n",
    "from sklearn.neural_network import MLPClassifier\n",
    "from sklearn.metrics import (\n",
    "accuracy_score,\n",
    "f1_score,\n",
    "roc_auc_score\n",
    ")\n",
    "\n",
    "models_results = pd.DataFrame()\n",
    "\n",
    "df = pd.read_csv(\"final_data/df.csv\")\n",
    "df = (df - df.min()) / (df.max() - df.min())\n",
    "X_submission = pd.read_csv(\"final_data/X_submit.csv\")\n",
    "X_submission = (X_submission - X_submission.min()) / (X_submission.max() - X_submission.min())\n",
    "\n",
    "\n",
    "X = df.drop(\"Transported\", axis = 1)\n",
    "y = df[\"Transported\"]\n",
    "\n",
    "X_train, X_test, y_train, y_test = train_test_split(X, y, test_size = 0.15)\n",
    "X_train, X_val, y_train, y_val = train_test_split(X_train, y_train, test_size = 0.2)"
   ]
  },
  {
   "cell_type": "markdown",
   "id": "2d134d5e-caa3-43df-b43f-cc35a82c890a",
   "metadata": {},
   "source": [
    "# Random Forest Classifier"
   ]
  },
  {
   "cell_type": "markdown",
   "id": "3c013211-6032-40dd-854f-6a86d2ce19c7",
   "metadata": {},
   "source": [
    "## Validation"
   ]
  },
  {
   "cell_type": "code",
   "execution_count": 14,
   "id": "bf3362e9-dd9b-414f-8abd-2befca41b8a3",
   "metadata": {},
   "outputs": [
    {
     "name": "stdout",
     "output_type": "stream",
     "text": [
      "Best Hyperparameters:\n",
      "{'max_depth': 20, 'min_samples_split': 5, 'n_estimators': 150}\n",
      "Best score:\n",
      "0.8241064234966674\n"
     ]
    }
   ],
   "source": [
    "param_grid = {\n",
    "    'n_estimators': [50, 100, 150, 200],       # Number of trees in the forest\n",
    "    'max_depth': [None, 10, 20],       # Maximum depth of the tree\n",
    "    'min_samples_split': [2, 5, 10],      # Minimum number of samples required to split an internal node}\n",
    "}\n",
    "model = RandomForestClassifier()\n",
    "kf = KFold(n_splits=4, shuffle=True, random_state=23)\n",
    "grid_search = GridSearchCV(estimator=model, param_grid=param_grid, cv=kf)\n",
    "grid_search.fit(X_val, y_val)\n",
    "\n",
    "rf_best_params = grid_search.best_params_\n",
    "rf_best_score = grid_search.best_score_\n",
    "rf_best_estimator = grid_search.best_estimator_\n",
    "print(\"Best Hyperparameters:\")\n",
    "print(rf_best_params)\n",
    "print(\"Best score:\")\n",
    "print(rf_best_score)"
   ]
  },
  {
   "cell_type": "markdown",
   "id": "2a199294-6448-45ca-88ba-dae0d7f88975",
   "metadata": {},
   "source": [
    "## Train-Test"
   ]
  },
  {
   "cell_type": "code",
   "execution_count": 15,
   "id": "2ba52c1d-1d4c-4019-865c-ac5993047d63",
   "metadata": {},
   "outputs": [
    {
     "name": "stdout",
     "output_type": "stream",
     "text": [
      "0.8021472392638037\n",
      "0.7981220657276996\n",
      "0.8020551038843723\n"
     ]
    }
   ],
   "source": [
    "model = rf_best_estimator\n",
    "model.fit(X_train, y_train)\n",
    "y_pred = model.predict(X_test)\n",
    "\n",
    "accuracy = accuracy_score(y_test, y_pred)\n",
    "f1 = f1_score(y_test, y_pred)\n",
    "auc = roc_auc_score(y_test, y_pred)\n",
    "\n",
    "print(accuracy)\n",
    "print(f1)\n",
    "print(auc)\n",
    "\n",
    "models_results[\"RFC\"] = [accuracy, f1, auc]"
   ]
  },
  {
   "cell_type": "markdown",
   "id": "710b2ab6-cbc7-42b8-9b72-461c684851e2",
   "metadata": {},
   "source": [
    "# MLP"
   ]
  },
  {
   "cell_type": "markdown",
   "id": "fcf742d6-4e00-4db8-9955-ce5aa92d3812",
   "metadata": {},
   "source": [
    "## Validation"
   ]
  },
  {
   "cell_type": "code",
   "execution_count": 16,
   "id": "cd06c992-2883-4dea-a7f6-a93b55f7f6eb",
   "metadata": {},
   "outputs": [
    {
     "name": "stdout",
     "output_type": "stream",
     "text": [
      "Best Hyperparameters:\n",
      "{'activation': 'logistic', 'hidden_layer_sizes': (20,), 'learning_rate_init': 0.005, 'max_iter': 500}\n",
      "Best score:\n",
      "0.814623159745111\n"
     ]
    }
   ],
   "source": [
    "import warnings\n",
    "from sklearn.exceptions import ConvergenceWarning\n",
    "\n",
    "warnings.filterwarnings(\"ignore\", category=ConvergenceWarning)\n",
    "\n",
    "params = {\n",
    "    'hidden_layer_sizes': [(20,), (35,), (50,), (20, 20)],   # Number of units in the hidden layers\n",
    "    'activation': ['relu', 'tanh', 'logistic'],                    # Activation function for the hidden layers                              # L2 regularization parameter\n",
    "    'learning_rate_init': [0.005, 0.01, 0.05],                      # Initial learning rate\n",
    "    'max_iter': [500]\n",
    "}\n",
    "model = MLPClassifier()\n",
    "kf = KFold(n_splits=4, shuffle=True, random_state=23)\n",
    "grid_search = GridSearchCV(estimator=model, param_grid=params, cv=kf)\n",
    "grid_search.fit(X_val, y_val)\n",
    "\n",
    "mlp_best_params = grid_search.best_params_\n",
    "mlp_best_score = grid_search.best_score_\n",
    "mlp_best_estimator = grid_search.best_estimator_\n",
    "print(\"Best Hyperparameters:\")\n",
    "print(mlp_best_params)\n",
    "print(\"Best score:\")\n",
    "print(mlp_best_score)"
   ]
  },
  {
   "cell_type": "markdown",
   "id": "de24ec69-08f5-4fea-89eb-3238d6092ff1",
   "metadata": {},
   "source": [
    "## Train-Test"
   ]
  },
  {
   "cell_type": "code",
   "execution_count": 17,
   "id": "11334b4b-9906-4342-8d1f-598efd24c0a2",
   "metadata": {},
   "outputs": [
    {
     "name": "stdout",
     "output_type": "stream",
     "text": [
      "0.7998466257668712\n",
      "0.8039068369646881\n",
      "0.8000037639265282\n"
     ]
    }
   ],
   "source": [
    "model = mlp_best_estimator\n",
    "model.fit(X_train, y_train)\n",
    "y_pred = model.predict(X_test)\n",
    "\n",
    "accuracy = accuracy_score(y_test, y_pred)\n",
    "f1 = f1_score(y_test, y_pred)\n",
    "auc = roc_auc_score(y_test, y_pred)\n",
    "\n",
    "print(accuracy)\n",
    "print(f1)\n",
    "print(auc)\n",
    "\n",
    "models_results[\"MLP\"] = [accuracy, f1, auc]"
   ]
  },
  {
   "cell_type": "code",
   "execution_count": null,
   "id": "703f6b75-4f33-4853-b845-ab672a1008f9",
   "metadata": {},
   "outputs": [],
   "source": []
  }
 ],
 "metadata": {
  "kernelspec": {
   "display_name": "Python 3 (ipykernel)",
   "language": "python",
   "name": "python3"
  },
  "language_info": {
   "codemirror_mode": {
    "name": "ipython",
    "version": 3
   },
   "file_extension": ".py",
   "mimetype": "text/x-python",
   "name": "python",
   "nbconvert_exporter": "python",
   "pygments_lexer": "ipython3",
   "version": "3.11.4"
  }
 },
 "nbformat": 4,
 "nbformat_minor": 5
}
