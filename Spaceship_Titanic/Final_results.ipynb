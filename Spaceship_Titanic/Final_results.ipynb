{
 "cells": [
  {
   "cell_type": "code",
   "execution_count": 2,
   "id": "b310c087-d64c-4fe4-960c-1ec4039cf8a8",
   "metadata": {},
   "outputs": [
    {
     "name": "stdout",
     "output_type": "stream",
     "text": [
      "(4277,)\n",
      "(4277, 30)\n"
     ]
    }
   ],
   "source": [
    "import pandas as pd\n",
    "import numpy as np\n",
    "import matplotlib.pyplot as plt\n",
    "import seaborn as sns\n",
    "from sklearn.ensemble import RandomForestClassifier\n",
    "\n",
    "df = pd.read_csv(\"final_data/df.csv\")\n",
    "X_train = df.drop(\"Transported\", axis = 1)\n",
    "y_train = df[\"Transported\"]\n",
    "X_test = pd.read_csv(\"final_data/X_submit.csv\")\n",
    "passengerId = pd.read_csv(\"data/test.csv\")[\"PassengerId\"]\n",
    "\n",
    "print(passengerId.shape)\n",
    "print(X_test.shape)\n",
    "\n",
    "model = RandomForestClassifier(max_depth = 20, min_samples_split= 3, n_estimators= 150)\n",
    "model.fit(X_train, y_train)\n",
    "y_pred = model.predict(X_test)\n",
    "\n",
    "final_df = pd.DataFrame()\n",
    "final_df[\"PassengerId\"] = passengerId\n",
    "final_df[\"Transported\"] = y_pred\n",
    "final_df[\"Transported\"] = final_df[\"Transported\"].astype(bool)\n",
    "\n",
    "final_df.to_csv(\"final_data/submission.csv\", index = False)"
   ]
  },
  {
   "cell_type": "code",
   "execution_count": null,
   "id": "9970d9ee-aca1-4594-9b97-7083cf802c13",
   "metadata": {},
   "outputs": [],
   "source": []
  }
 ],
 "metadata": {
  "kernelspec": {
   "display_name": "Python 3 (ipykernel)",
   "language": "python",
   "name": "python3"
  },
  "language_info": {
   "codemirror_mode": {
    "name": "ipython",
    "version": 3
   },
   "file_extension": ".py",
   "mimetype": "text/x-python",
   "name": "python",
   "nbconvert_exporter": "python",
   "pygments_lexer": "ipython3",
   "version": "3.11.4"
  }
 },
 "nbformat": 4,
 "nbformat_minor": 5
}
